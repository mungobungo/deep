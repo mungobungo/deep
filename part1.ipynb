{
 "cells": [
  {
   "cell_type": "markdown",
   "metadata": {},
   "source": [
    "    What frameworks to use?\n",
    "    Whow numpy is different from tensorflow?\n",
    "    Wwhat keras is?\n",
    "    Do we need to know python?\n",
    "    What is anaconda?\n",
    "    Wwhat is venv?\n",
    "    How to setup python packages?\n",
    "    Will it work on windows?\n",
    "    Do we need gpu?\n",
    "    How to deal with python notebooks?\n",
    "\n",
    "First things first\n",
    "\n",
    "To have anything possible, we need to setup python properly.\n",
    "Examples will be shown for windows machines now, but it is more or less the same for "
   ]
  },
  {
   "cell_type": "code",
   "execution_count": 1,
   "metadata": {
    "collapsed": false
   },
   "outputs": [
    {
     "data": {
      "text/plain": [
       "2"
      ]
     },
     "execution_count": 1,
     "metadata": {},
     "output_type": "execute_result"
    }
   ],
   "source": [
    "1+1"
   ]
  },
  {
   "cell_type": "code",
   "execution_count": 4,
   "metadata": {},
   "outputs": [],
   "source": [
    "%matplotlib inline"
   ]
  },
  {
   "cell_type": "code",
   "execution_count": 6,
   "metadata": {
    "collapsed": false
   },
   "outputs": [
    {
     "name": "stdout",
     "output_type": "stream",
     "text": [
      "(775, 1024, 3)\n"
     ]
    }
   ],
   "source": [
    "import cv2\n",
    "import matplotlib.pyplot as plt\n",
    "import numpy as np\n",
    "import sys\n",
    "\n",
    "\n",
    "im = cv2.imread('images/image.jpg')\n",
    "\n",
    "h,w = im.shape[:2]\n",
    "print(im.shape)\n",
    "converted = cv2.cvtColor(im, cv2.COLOR_BGR2RGB)\n",
    "plt.imshow(converted,cmap='summer')\n",
    "#plt.imshow(im,cmap='summer')\n",
    "#plt.imshow(converted)\n",
    "plt.show()"
   ]
  }
 ],
 "metadata": {
  "kernelspec": {
   "display_name": "Python 3",
   "language": "python",
   "name": "python3"
  },
  "language_info": {
   "codemirror_mode": {
    "name": "ipython",
    "version": 3.0
   },
   "file_extension": ".py",
   "mimetype": "text/x-python",
   "name": "python",
   "nbconvert_exporter": "python",
   "pygments_lexer": "ipython3",
   "version": "3.5.2"
  }
 },
 "nbformat": 4,
 "nbformat_minor": 0
}